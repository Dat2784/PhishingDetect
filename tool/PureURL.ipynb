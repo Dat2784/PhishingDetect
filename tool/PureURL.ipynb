{
  "nbformat": 4,
  "nbformat_minor": 0,
  "metadata": {
    "colab": {
      "provenance": [],
      "authorship_tag": "ABX9TyPEYYZkBWGZRdNe7AsR+78F",
      "include_colab_link": true
    },
    "kernelspec": {
      "name": "python3",
      "display_name": "Python 3"
    },
    "language_info": {
      "name": "python"
    }
  },
  "cells": [
    {
      "cell_type": "markdown",
      "metadata": {
        "id": "view-in-github",
        "colab_type": "text"
      },
      "source": [
        "<a href=\"https://colab.research.google.com/github/MrDev333/PhishingDetect/blob/main/tool/PureURL.ipynb\" target=\"_parent\"><img src=\"https://colab.research.google.com/assets/colab-badge.svg\" alt=\"Open In Colab\"/></a>"
      ]
    },
    {
      "cell_type": "code",
      "execution_count": null,
      "metadata": {
        "id": "7S_XipF9iwS_"
      },
      "outputs": [],
      "source": []
    },
    {
      "cell_type": "code",
      "metadata": {
        "colab": {
          "base_uri": "https://localhost:8080/"
        },
        "id": "395e1b9c",
        "outputId": "21c8d9c4-aac6-42ba-cbb6-14fb9e266f49"
      },
      "source": [
        "import pandas as pd\n",
        "\n",
        "# Tải dữ liệu từ tệp CSV gốc\n",
        "try:\n",
        "    df_original = pd.read_csv('/content/online-valid_1.csv')\n",
        "    print(\"Đã tải dữ liệu thành công.\")\n",
        "except FileNotFoundError:\n",
        "    print(\"Không tìm thấy tệp '/content/online-valid_1.csv'. Vui lòng kiểm tra lại đường dẫn.\")\n",
        "    df_original = None"
      ],
      "execution_count": 1,
      "outputs": [
        {
          "output_type": "stream",
          "name": "stdout",
          "text": [
            "Đã tải dữ liệu thành công.\n"
          ]
        }
      ]
    },
    {
      "cell_type": "code",
      "metadata": {
        "colab": {
          "base_uri": "https://localhost:8080/"
        },
        "id": "6d1e034f",
        "outputId": "5bf35a80-1569-4d10-dc85-c879659c5df4"
      },
      "source": [
        "if df_original is not None:\n",
        "    # Lấy mẫu ngẫu nhiên 1/10 số lượng bản ghi\n",
        "    sample_size = len(df_original) // 10\n",
        "    df_sampled = df_original.sample(n=sample_size, random_state=42)  # Sử dụng random_state để có kết quả lặp lại\n",
        "    print(f\"Đã lấy mẫu thành công {sample_size} bản ghi.\")\n",
        "else:\n",
        "    df_sampled = None\n",
        "    print(\"Không thể lấy mẫu dữ liệu vì DataFrame gốc không tồn tại.\")"
      ],
      "execution_count": 2,
      "outputs": [
        {
          "output_type": "stream",
          "name": "stdout",
          "text": [
            "Đã lấy mẫu thành công 5289 bản ghi.\n"
          ]
        }
      ]
    },
    {
      "cell_type": "code",
      "metadata": {
        "colab": {
          "base_uri": "https://localhost:8080/"
        },
        "id": "bf63f128",
        "outputId": "b0287583-ba7d-40e0-a192-1f69009c7502"
      },
      "source": [
        "if df_sampled is not None:\n",
        "    # Lưu DataFrame đã lấy mẫu vào một tệp CSV mới\n",
        "    output_filename = 'benign_urls_sampled.csv'\n",
        "    df_sampled.to_csv(output_filename, index=False)\n",
        "    print(f\"Đã lưu dữ liệu lấy mẫu vào tệp '{output_filename}'.\")\n",
        "else:\n",
        "    print(\"Không thể lưu tệp vì DataFrame đã lấy mẫu không tồn tại.\")"
      ],
      "execution_count": 3,
      "outputs": [
        {
          "output_type": "stream",
          "name": "stdout",
          "text": [
            "Đã lưu dữ liệu lấy mẫu vào tệp 'benign_urls_sampled.csv'.\n"
          ]
        }
      ]
    },
    {
      "cell_type": "code",
      "metadata": {
        "colab": {
          "base_uri": "https://localhost:8080/",
          "height": 17
        },
        "id": "c28bd925",
        "outputId": "61ab6008-05e3-48b4-cd50-665fd62987aa"
      },
      "source": [
        "from google.colab import files\n",
        "\n",
        "files.download('benign_urls_sampled.csv')"
      ],
      "execution_count": 4,
      "outputs": [
        {
          "output_type": "display_data",
          "data": {
            "text/plain": [
              "<IPython.core.display.Javascript object>"
            ],
            "application/javascript": [
              "\n",
              "    async function download(id, filename, size) {\n",
              "      if (!google.colab.kernel.accessAllowed) {\n",
              "        return;\n",
              "      }\n",
              "      const div = document.createElement('div');\n",
              "      const label = document.createElement('label');\n",
              "      label.textContent = `Downloading \"${filename}\": `;\n",
              "      div.appendChild(label);\n",
              "      const progress = document.createElement('progress');\n",
              "      progress.max = size;\n",
              "      div.appendChild(progress);\n",
              "      document.body.appendChild(div);\n",
              "\n",
              "      const buffers = [];\n",
              "      let downloaded = 0;\n",
              "\n",
              "      const channel = await google.colab.kernel.comms.open(id);\n",
              "      // Send a message to notify the kernel that we're ready.\n",
              "      channel.send({})\n",
              "\n",
              "      for await (const message of channel.messages) {\n",
              "        // Send a message to notify the kernel that we're ready.\n",
              "        channel.send({})\n",
              "        if (message.buffers) {\n",
              "          for (const buffer of message.buffers) {\n",
              "            buffers.push(buffer);\n",
              "            downloaded += buffer.byteLength;\n",
              "            progress.value = downloaded;\n",
              "          }\n",
              "        }\n",
              "      }\n",
              "      const blob = new Blob(buffers, {type: 'application/binary'});\n",
              "      const a = document.createElement('a');\n",
              "      a.href = window.URL.createObjectURL(blob);\n",
              "      a.download = filename;\n",
              "      div.appendChild(a);\n",
              "      a.click();\n",
              "      div.remove();\n",
              "    }\n",
              "  "
            ]
          },
          "metadata": {}
        },
        {
          "output_type": "display_data",
          "data": {
            "text/plain": [
              "<IPython.core.display.Javascript object>"
            ],
            "application/javascript": [
              "download(\"download_f7a00612-6a8a-4001-89e1-3fac13422561\", \"benign_urls_sampled.csv\", 1034038)"
            ]
          },
          "metadata": {}
        }
      ]
    }
  ]
}